{
 "cells": [
  {
   "cell_type": "markdown",
   "metadata": {},
   "source": [
    "# Geographical Library Access\n",
    "\n",
    "Research Questions:\n",
    " - For each county in America, how far is the closest library?\n",
    " - How does library access compare in rural vs. urban areas? \n",
    " - Where are there \"library deserts\"?\n",
    "\n",
    " Output:\n",
    "\n",
    " "
   ]
  },
  {
   "cell_type": "code",
   "execution_count": null,
   "metadata": {},
   "outputs": [],
   "source": []
  }
 ],
 "metadata": {
  "language_info": {
   "name": "python"
  }
 },
 "nbformat": 4,
 "nbformat_minor": 2
}
